{
 "cells": [
  {
   "attachments": {},
   "cell_type": "markdown",
   "metadata": {},
   "source": [
    "# Exploring dataset"
   ]
  },
  {
   "cell_type": "code",
   "execution_count": 1,
   "metadata": {},
   "outputs": [],
   "source": [
    "import numpy as np\n",
    "import pandas as pd"
   ]
  },
  {
   "cell_type": "code",
   "execution_count": 4,
   "metadata": {},
   "outputs": [],
   "source": [
    "demographics_cvs_path = 'MatchedControls/demographics.csv'\n",
    "subject_file = 'src/new/subjects.txt'"
   ]
  },
  {
   "cell_type": "code",
   "execution_count": 5,
   "metadata": {},
   "outputs": [],
   "source": [
    "demographics = pd.read_csv(demographics_cvs_path)"
   ]
  },
  {
   "cell_type": "code",
   "execution_count": 32,
   "metadata": {},
   "outputs": [
    {
     "data": {
      "text/html": [
       "<div>\n",
       "<style scoped>\n",
       "    .dataframe tbody tr th:only-of-type {\n",
       "        vertical-align: middle;\n",
       "    }\n",
       "\n",
       "    .dataframe tbody tr th {\n",
       "        vertical-align: top;\n",
       "    }\n",
       "\n",
       "    .dataframe thead th {\n",
       "        text-align: right;\n",
       "    }\n",
       "</style>\n",
       "<table border=\"1\" class=\"dataframe\">\n",
       "  <thead>\n",
       "    <tr style=\"text-align: right;\">\n",
       "      <th></th>\n",
       "      <th>Subject</th>\n",
       "      <th>Sex</th>\n",
       "      <th>Age</th>\n",
       "      <th>Site</th>\n",
       "    </tr>\n",
       "  </thead>\n",
       "  <tbody>\n",
       "    <tr>\n",
       "      <th>0</th>\n",
       "      <td>R0203_V0390</td>\n",
       "      <td>F</td>\n",
       "      <td>8.08</td>\n",
       "      <td>TOB</td>\n",
       "    </tr>\n",
       "    <tr>\n",
       "      <th>1</th>\n",
       "      <td>R0077_V0154</td>\n",
       "      <td>F</td>\n",
       "      <td>8.92</td>\n",
       "      <td>TOB</td>\n",
       "    </tr>\n",
       "    <tr>\n",
       "      <th>2</th>\n",
       "      <td>R0100_V0195</td>\n",
       "      <td>F</td>\n",
       "      <td>9.08</td>\n",
       "      <td>TOB</td>\n",
       "    </tr>\n",
       "    <tr>\n",
       "      <th>3</th>\n",
       "      <td>R0110_V0211</td>\n",
       "      <td>F</td>\n",
       "      <td>9.08</td>\n",
       "      <td>TOB</td>\n",
       "    </tr>\n",
       "    <tr>\n",
       "      <th>4</th>\n",
       "      <td>R0253_V0511</td>\n",
       "      <td>F</td>\n",
       "      <td>9.33</td>\n",
       "      <td>TOB</td>\n",
       "    </tr>\n",
       "    <tr>\n",
       "      <th>...</th>\n",
       "      <td>...</td>\n",
       "      <td>...</td>\n",
       "      <td>...</td>\n",
       "      <td>...</td>\n",
       "    </tr>\n",
       "    <tr>\n",
       "      <th>190</th>\n",
       "      <td>113223_005639</td>\n",
       "      <td>M</td>\n",
       "      <td>16.67</td>\n",
       "      <td>PNC</td>\n",
       "    </tr>\n",
       "    <tr>\n",
       "      <th>191</th>\n",
       "      <td>089834_003353</td>\n",
       "      <td>M</td>\n",
       "      <td>16.83</td>\n",
       "      <td>PNC</td>\n",
       "    </tr>\n",
       "    <tr>\n",
       "      <th>192</th>\n",
       "      <td>085960_003323</td>\n",
       "      <td>M</td>\n",
       "      <td>17.25</td>\n",
       "      <td>PNC</td>\n",
       "    </tr>\n",
       "    <tr>\n",
       "      <th>193</th>\n",
       "      <td>125280_005515</td>\n",
       "      <td>M</td>\n",
       "      <td>17.42</td>\n",
       "      <td>PNC</td>\n",
       "    </tr>\n",
       "    <tr>\n",
       "      <th>194</th>\n",
       "      <td>120514_005912</td>\n",
       "      <td>M</td>\n",
       "      <td>17.58</td>\n",
       "      <td>PNC</td>\n",
       "    </tr>\n",
       "  </tbody>\n",
       "</table>\n",
       "<p>195 rows × 4 columns</p>\n",
       "</div>"
      ],
      "text/plain": [
       "           Subject Sex    Age Site\n",
       "0      R0203_V0390   F   8.08  TOB\n",
       "1      R0077_V0154   F   8.92  TOB\n",
       "2      R0100_V0195   F   9.08  TOB\n",
       "3      R0110_V0211   F   9.08  TOB\n",
       "4      R0253_V0511   F   9.33  TOB\n",
       "..             ...  ..    ...  ...\n",
       "190  113223_005639   M  16.67  PNC\n",
       "191  089834_003353   M  16.83  PNC\n",
       "192  085960_003323   M  17.25  PNC\n",
       "193  125280_005515   M  17.42  PNC\n",
       "194  120514_005912   M  17.58  PNC\n",
       "\n",
       "[195 rows x 4 columns]"
      ]
     },
     "execution_count": 32,
     "metadata": {},
     "output_type": "execute_result"
    }
   ],
   "source": [
    "demographics"
   ]
  },
  {
   "cell_type": "code",
   "execution_count": 33,
   "metadata": {},
   "outputs": [
    {
     "data": {
      "text/plain": [
       "PNC    98\n",
       "TOB    97\n",
       "Name: Site, dtype: int64"
      ]
     },
     "execution_count": 33,
     "metadata": {},
     "output_type": "execute_result"
    }
   ],
   "source": [
    "demographics['Site'].value_counts()"
   ]
  },
  {
   "cell_type": "code",
   "execution_count": 31,
   "metadata": {},
   "outputs": [
    {
     "data": {
      "text/plain": [
       "M    153\n",
       "F     42\n",
       "Name: Sex, dtype: int64"
      ]
     },
     "execution_count": 31,
     "metadata": {},
     "output_type": "execute_result"
    }
   ],
   "source": [
    "demographics['Sex'].value_counts()"
   ]
  },
  {
   "cell_type": "code",
   "execution_count": 19,
   "metadata": {},
   "outputs": [
    {
     "data": {
      "text/html": [
       "<div>\n",
       "<style scoped>\n",
       "    .dataframe tbody tr th:only-of-type {\n",
       "        vertical-align: middle;\n",
       "    }\n",
       "\n",
       "    .dataframe tbody tr th {\n",
       "        vertical-align: top;\n",
       "    }\n",
       "\n",
       "    .dataframe thead tr th {\n",
       "        text-align: left;\n",
       "    }\n",
       "\n",
       "    .dataframe thead tr:last-of-type th {\n",
       "        text-align: right;\n",
       "    }\n",
       "</style>\n",
       "<table border=\"1\" class=\"dataframe\">\n",
       "  <thead>\n",
       "    <tr>\n",
       "      <th></th>\n",
       "      <th colspan=\"8\" halign=\"left\">Age</th>\n",
       "    </tr>\n",
       "    <tr>\n",
       "      <th></th>\n",
       "      <th>count</th>\n",
       "      <th>mean</th>\n",
       "      <th>std</th>\n",
       "      <th>min</th>\n",
       "      <th>25%</th>\n",
       "      <th>50%</th>\n",
       "      <th>75%</th>\n",
       "      <th>max</th>\n",
       "    </tr>\n",
       "    <tr>\n",
       "      <th>Site</th>\n",
       "      <th></th>\n",
       "      <th></th>\n",
       "      <th></th>\n",
       "      <th></th>\n",
       "      <th></th>\n",
       "      <th></th>\n",
       "      <th></th>\n",
       "      <th></th>\n",
       "    </tr>\n",
       "  </thead>\n",
       "  <tbody>\n",
       "    <tr>\n",
       "      <th>PNC</th>\n",
       "      <td>98.0</td>\n",
       "      <td>12.339490</td>\n",
       "      <td>2.708077</td>\n",
       "      <td>8.17</td>\n",
       "      <td>10.1025</td>\n",
       "      <td>12.00</td>\n",
       "      <td>14.33</td>\n",
       "      <td>18.08</td>\n",
       "    </tr>\n",
       "    <tr>\n",
       "      <th>TOB</th>\n",
       "      <td>97.0</td>\n",
       "      <td>12.241959</td>\n",
       "      <td>2.737532</td>\n",
       "      <td>8.00</td>\n",
       "      <td>10.0800</td>\n",
       "      <td>12.08</td>\n",
       "      <td>14.25</td>\n",
       "      <td>17.83</td>\n",
       "    </tr>\n",
       "  </tbody>\n",
       "</table>\n",
       "</div>"
      ],
      "text/plain": [
       "       Age                                                         \n",
       "     count       mean       std   min      25%    50%    75%    max\n",
       "Site                                                               \n",
       "PNC   98.0  12.339490  2.708077  8.17  10.1025  12.00  14.33  18.08\n",
       "TOB   97.0  12.241959  2.737532  8.00  10.0800  12.08  14.25  17.83"
      ]
     },
     "execution_count": 19,
     "metadata": {},
     "output_type": "execute_result"
    }
   ],
   "source": [
    "gb = demographics.groupby('Site')\n",
    "gb.describe()"
   ]
  },
  {
   "cell_type": "code",
   "execution_count": 39,
   "metadata": {},
   "outputs": [
    {
     "data": {
      "text/html": [
       "<div>\n",
       "<style scoped>\n",
       "    .dataframe tbody tr th:only-of-type {\n",
       "        vertical-align: middle;\n",
       "    }\n",
       "\n",
       "    .dataframe tbody tr th {\n",
       "        vertical-align: top;\n",
       "    }\n",
       "\n",
       "    .dataframe thead tr th {\n",
       "        text-align: left;\n",
       "    }\n",
       "\n",
       "    .dataframe thead tr:last-of-type th {\n",
       "        text-align: right;\n",
       "    }\n",
       "</style>\n",
       "<table border=\"1\" class=\"dataframe\">\n",
       "  <thead>\n",
       "    <tr>\n",
       "      <th></th>\n",
       "      <th colspan=\"8\" halign=\"left\">Age</th>\n",
       "    </tr>\n",
       "    <tr>\n",
       "      <th></th>\n",
       "      <th>count</th>\n",
       "      <th>mean</th>\n",
       "      <th>std</th>\n",
       "      <th>min</th>\n",
       "      <th>25%</th>\n",
       "      <th>50%</th>\n",
       "      <th>75%</th>\n",
       "      <th>max</th>\n",
       "    </tr>\n",
       "    <tr>\n",
       "      <th>Sex</th>\n",
       "      <th></th>\n",
       "      <th></th>\n",
       "      <th></th>\n",
       "      <th></th>\n",
       "      <th></th>\n",
       "      <th></th>\n",
       "      <th></th>\n",
       "      <th></th>\n",
       "    </tr>\n",
       "  </thead>\n",
       "  <tbody>\n",
       "    <tr>\n",
       "      <th>F</th>\n",
       "      <td>42.0</td>\n",
       "      <td>12.096667</td>\n",
       "      <td>3.035141</td>\n",
       "      <td>8.08</td>\n",
       "      <td>10.1025</td>\n",
       "      <td>11.08</td>\n",
       "      <td>14.4575</td>\n",
       "      <td>18.08</td>\n",
       "    </tr>\n",
       "    <tr>\n",
       "      <th>M</th>\n",
       "      <td>153.0</td>\n",
       "      <td>12.344314</td>\n",
       "      <td>2.630222</td>\n",
       "      <td>8.00</td>\n",
       "      <td>10.0800</td>\n",
       "      <td>12.25</td>\n",
       "      <td>14.2500</td>\n",
       "      <td>17.75</td>\n",
       "    </tr>\n",
       "  </tbody>\n",
       "</table>\n",
       "</div>"
      ],
      "text/plain": [
       "       Age                                                           \n",
       "     count       mean       std   min      25%    50%      75%    max\n",
       "Sex                                                                  \n",
       "F     42.0  12.096667  3.035141  8.08  10.1025  11.08  14.4575  18.08\n",
       "M    153.0  12.344314  2.630222  8.00  10.0800  12.25  14.2500  17.75"
      ]
     },
     "execution_count": 39,
     "metadata": {},
     "output_type": "execute_result"
    }
   ],
   "source": [
    "gb_sex = demographics.groupby('Sex')\n",
    "gb_sex.describe()"
   ]
  },
  {
   "cell_type": "code",
   "execution_count": 46,
   "metadata": {},
   "outputs": [
    {
     "data": {
      "text/html": [
       "<div>\n",
       "<style scoped>\n",
       "    .dataframe tbody tr th:only-of-type {\n",
       "        vertical-align: middle;\n",
       "    }\n",
       "\n",
       "    .dataframe tbody tr th {\n",
       "        vertical-align: top;\n",
       "    }\n",
       "\n",
       "    .dataframe thead tr th {\n",
       "        text-align: left;\n",
       "    }\n",
       "\n",
       "    .dataframe thead tr:last-of-type th {\n",
       "        text-align: right;\n",
       "    }\n",
       "</style>\n",
       "<table border=\"1\" class=\"dataframe\">\n",
       "  <thead>\n",
       "    <tr>\n",
       "      <th></th>\n",
       "      <th></th>\n",
       "      <th colspan=\"8\" halign=\"left\">Age</th>\n",
       "    </tr>\n",
       "    <tr>\n",
       "      <th></th>\n",
       "      <th></th>\n",
       "      <th>count</th>\n",
       "      <th>mean</th>\n",
       "      <th>std</th>\n",
       "      <th>min</th>\n",
       "      <th>25%</th>\n",
       "      <th>50%</th>\n",
       "      <th>75%</th>\n",
       "      <th>max</th>\n",
       "    </tr>\n",
       "    <tr>\n",
       "      <th>Site</th>\n",
       "      <th>Sex</th>\n",
       "      <th></th>\n",
       "      <th></th>\n",
       "      <th></th>\n",
       "      <th></th>\n",
       "      <th></th>\n",
       "      <th></th>\n",
       "      <th></th>\n",
       "      <th></th>\n",
       "    </tr>\n",
       "  </thead>\n",
       "  <tbody>\n",
       "    <tr>\n",
       "      <th rowspan=\"2\" valign=\"top\">PNC</th>\n",
       "      <th>F</th>\n",
       "      <td>21.0</td>\n",
       "      <td>12.174286</td>\n",
       "      <td>3.080129</td>\n",
       "      <td>8.17</td>\n",
       "      <td>10.1700</td>\n",
       "      <td>11.08</td>\n",
       "      <td>14.3300</td>\n",
       "      <td>18.08</td>\n",
       "    </tr>\n",
       "    <tr>\n",
       "      <th>M</th>\n",
       "      <td>77.0</td>\n",
       "      <td>12.384545</td>\n",
       "      <td>2.617989</td>\n",
       "      <td>8.17</td>\n",
       "      <td>10.0800</td>\n",
       "      <td>12.25</td>\n",
       "      <td>14.3300</td>\n",
       "      <td>17.58</td>\n",
       "    </tr>\n",
       "    <tr>\n",
       "      <th rowspan=\"2\" valign=\"top\">TOB</th>\n",
       "      <th>F</th>\n",
       "      <td>21.0</td>\n",
       "      <td>12.019048</td>\n",
       "      <td>3.063482</td>\n",
       "      <td>8.08</td>\n",
       "      <td>10.0800</td>\n",
       "      <td>11.25</td>\n",
       "      <td>14.6700</td>\n",
       "      <td>17.83</td>\n",
       "    </tr>\n",
       "    <tr>\n",
       "      <th>M</th>\n",
       "      <td>76.0</td>\n",
       "      <td>12.303553</td>\n",
       "      <td>2.659328</td>\n",
       "      <td>8.00</td>\n",
       "      <td>10.1475</td>\n",
       "      <td>12.21</td>\n",
       "      <td>14.1225</td>\n",
       "      <td>17.75</td>\n",
       "    </tr>\n",
       "  </tbody>\n",
       "</table>\n",
       "</div>"
      ],
      "text/plain": [
       "           Age                                                           \n",
       "         count       mean       std   min      25%    50%      75%    max\n",
       "Site Sex                                                                 \n",
       "PNC  F    21.0  12.174286  3.080129  8.17  10.1700  11.08  14.3300  18.08\n",
       "     M    77.0  12.384545  2.617989  8.17  10.0800  12.25  14.3300  17.58\n",
       "TOB  F    21.0  12.019048  3.063482  8.08  10.0800  11.25  14.6700  17.83\n",
       "     M    76.0  12.303553  2.659328  8.00  10.1475  12.21  14.1225  17.75"
      ]
     },
     "execution_count": 46,
     "metadata": {},
     "output_type": "execute_result"
    }
   ],
   "source": [
    "demographics.groupby(['Site', 'Sex']).describe()"
   ]
  },
  {
   "attachments": {},
   "cell_type": "markdown",
   "metadata": {},
   "source": [
    "The connectome comes from 2 scanner sites, in which 98 is from PNC and 97 is from TOB. There are in total 153 males and 42 females subjects. As we can see, the number of males and females subjects are distributed equaly between 2 scanners. Each sites has 21 females and around 76 males subjects."
   ]
  },
  {
   "attachments": {},
   "cell_type": "markdown",
   "metadata": {},
   "source": [
    "## 2. Parse scanner and subjects to txt file"
   ]
  },
  {
   "cell_type": "code",
   "execution_count": 68,
   "metadata": {},
   "outputs": [
    {
     "name": "stderr",
     "output_type": "stream",
     "text": [
      "/tmp/ipykernel_1301/1119866737.py:1: UserWarning: Boolean Series key will be reindexed to match DataFrame index.\n",
      "  PNC_F = demographics.loc[demographics['Site'] == 'PNC'][demographics['Sex'] == 'F']\n",
      "/tmp/ipykernel_1301/1119866737.py:2: UserWarning: Boolean Series key will be reindexed to match DataFrame index.\n",
      "  PNC_M = demographics.loc[demographics['Site'] == 'PNC'][demographics['Sex'] == 'M']\n",
      "/tmp/ipykernel_1301/1119866737.py:3: UserWarning: Boolean Series key will be reindexed to match DataFrame index.\n",
      "  TOB_F = demographics.loc[demographics['Site'] == 'TOB'][demographics['Sex'] == 'F']\n",
      "/tmp/ipykernel_1301/1119866737.py:4: UserWarning: Boolean Series key will be reindexed to match DataFrame index.\n",
      "  TOB_M = demographics.loc[demographics['Site'] == 'TOB'][demographics['Sex'] == 'M']\n"
     ]
    }
   ],
   "source": [
    "PNC_F = demographics.loc[demographics['Site'] == 'PNC'][demographics['Sex'] == 'F']\n",
    "PNC_M = demographics.loc[demographics['Site'] == 'PNC'][demographics['Sex'] == 'M']\n",
    "TOB_F = demographics.loc[demographics['Site'] == 'TOB'][demographics['Sex'] == 'F']\n",
    "TOB_M = demographics.loc[demographics['Site'] == 'TOB'][demographics['Sex'] == 'M']\n"
   ]
  },
  {
   "cell_type": "code",
   "execution_count": 70,
   "metadata": {},
   "outputs": [],
   "source": [
    "file_map = {\n",
    "    'PNC_F': PNC_F,\n",
    "    'PNC_M': PNC_M,\n",
    "    'TOB_F': TOB_F,\n",
    "    'TOB_M': TOB_M\n",
    "}\n",
    "\n",
    "for scanner_subject_name, df in file_map.items():\n",
    "    with open(f'src/new/{scanner_subject_name}_subjects.txt', 'w') as f:\n",
    "        for s in df['Subject'].tolist():\n",
    "            f.write(\"%s\\n\" % s)"
   ]
  },
  {
   "cell_type": "code",
   "execution_count": null,
   "metadata": {},
   "outputs": [],
   "source": []
  }
 ],
 "metadata": {
  "kernelspec": {
   "display_name": "Python 3",
   "language": "python",
   "name": "python3"
  },
  "language_info": {
   "codemirror_mode": {
    "name": "ipython",
    "version": 3
   },
   "file_extension": ".py",
   "mimetype": "text/x-python",
   "name": "python",
   "nbconvert_exporter": "python",
   "pygments_lexer": "ipython3",
   "version": "3.10.10"
  },
  "orig_nbformat": 4,
  "vscode": {
   "interpreter": {
    "hash": "949777d72b0d2535278d3dc13498b2535136f6dfe0678499012e853ee9abcab1"
   }
  }
 },
 "nbformat": 4,
 "nbformat_minor": 2
}
